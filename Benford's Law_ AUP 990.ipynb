{
 "cells": [
  {
   "cell_type": "markdown",
   "source": [
    "## TO-DO\n",
    " - Write a report on my methods so far and what I've found (scientific style with sources)\n",
    "     - seperate from this work"
   ],
   "metadata": {
    "collapsed": false
   }
  },
  {
   "cell_type": "markdown",
   "metadata": {
    "slideshow": {
     "slide_type": "slide"
    }
   },
   "source": [
    "#### Guide to using this website:\n",
    "\n",
    "So this website is basically a slideshow. It will work on your phone, iPad or computer.\n",
    "\n",
    "Navigate using the arrows in the bottom right, by using your arrow keys, or by swiping your finger.\n",
    "\n",
    "To the right, there are new sections, I will cover the sections on the slide below this.\n",
    "\n",
    "As you move down, you continue on in the same section. If you press escape, you will be able to see am overview of all of the slides.\n",
    "\n",
    "On the slide below, the presentation will begin. Navigate down when you're ready.\n",
    "\n",
    "\n",
    " - Kaggle Notebook: https://www.kaggle.com/a100186/aup-990\n",
    "\n",
    " - Github Repo: https://github.com/beachc15/Benford_Analysis_AUP990"
   ]
  },
  {
   "cell_type": "markdown",
   "metadata": {
    "slideshow": {
     "slide_type": "subslide"
    }
   },
   "source": [
    "# Benford Analysis\n",
    "\n",
    "### Charles Beach\n",
    "\n",
    "### IBA 4020 - Computational Finance"
   ]
  },
  {
   "cell_type": "markdown",
   "metadata": {
    "slideshow": {
     "slide_type": "subslide"
    }
   },
   "source": [
    "# Introduction and Glossary"
   ]
  },
  {
   "cell_type": "markdown",
   "metadata": {
    "slideshow": {
     "slide_type": "subslide"
    }
   },
   "source": [
    "## Slideshow\n",
    "This interactive slideshow will walk through the code I have created to conduct a Benford Analysis on AUP's 990 tax form. The goal of writing this code is to create a system where anybody can input a csv file into this code (found on Kaggle or github) and the code will automatically do a full Benford analysis. The only work that the user needs to do is connect the file. \n",
    "\n",
    "At this point the code is not idiot-proofed yet so it needs to be set up to deal with some dope who tries to put in a spreadsheet full of words or whatever. That idiot-proofing will be done, but that much code is too much for this slideshow. "
   ]
  },
  {
   "cell_type": "markdown",
   "metadata": {
    "slideshow": {
     "slide_type": "subslide"
    }
   },
   "source": [
    "## Benford Analysis\n",
    "   Benford's Law is based around the idea that numbers aren't evenly distributed in nature. They are distributed abnormally. When examining the first digit of every number from a set, a distinct distribution emerges that appears in all sorts of data sets (see link below). A Benford Analysis leverages this information by comparing numbers on SEC filings, population sizes, street names to the expected value those numbers should be based on Benford's Law and looks for discrepancies between the two.\n",
    "    \n",
    "   Often discrepancies could mean fraud is involved. For example, Enron's financial statements do not follow Benford's Law while the line count of the *Rails* 3.0.9 source code does (https://testingbenfordslaw.com/rails-core-line-count). \n",
    "    \n",
    "   On this project we will use the American University of Paris's 2017 990 tax returns as our reference material. Our goal is to use python to examine these tax returns and to determine if they follow Benford's law, and if they do not, what numbers could possibly be fraudulent because of this. At the end we will examine what accounts contain numbers in positions that are not distributed as they should be, then make a recommendation based off of this information as to what accounts should be audited in search of fraud."
   ]
  },
  {
   "cell_type": "markdown",
   "metadata": {
    "slideshow": {
     "slide_type": "subslide"
    }
   },
   "source": [
    "### Glossary\n",
    "* Importing and cleaning the Data\n",
    "* Basic Data Analysis\n",
    "* Last-Two Digit Test\n",
    "* Final Data Analysis\n",
    "* Locating the Suspicious Data\n",
    "* Conclusion"
   ]
  },
  {
   "cell_type": "markdown",
   "metadata": {
    "slideshow": {
     "slide_type": "subslide"
    }
   },
   "source": [
    "**Now you can Navigate to the right to begin**"
   ]
  },
  {
   "cell_type": "markdown",
   "metadata": {
    "slideshow": {
     "slide_type": "skip"
    }
   },
   "source": [
    "**Imports**"
   ]
  },
  {
   "cell_type": "code",
   "execution_count": 1,
   "metadata": {
    "pycharm": {
     "is_executing": false,
     "name": "#%%\n"
    },
    "slideshow": {
     "slide_type": "skip"
    }
   },
   "outputs": [],
   "source": [
    "import matplotlib.pyplot as plt\n",
    "import numpy as np # linear algebra\n",
    "import pandas as pd # data processing, CSV file I/O (e.g. pd.read_csv)\n"
   ]
  },
  {
   "cell_type": "markdown",
   "metadata": {
    "slideshow": {
     "slide_type": "slide"
    }
   },
   "source": [
    "# Import and Data Cleaning"
   ]
  },
  {
   "cell_type": "markdown",
   "metadata": {
    "slideshow": {
     "slide_type": "subslide"
    }
   },
   "source": [
    "The first thing we will do is import our CSV. It is formatted with account names on the Y axis and headers on the X.\n",
    "\n",
    "The goal of this program is to be usable for a large number of different CSV's so we can replace this file with another and it will produce meaningful results."
   ]
  },
  {
   "cell_type": "code",
   "execution_count": 2,
   "metadata": {
    "pycharm": {
     "is_executing": false,
     "name": "#%%\n"
    },
    "slideshow": {
     "slide_type": "-"
    }
   },
   "outputs": [],
   "source": [
    "df = pd.read_csv(\"https://ac.aup.edu/~a100186/Source/Raw_Benford_Numbers.csv\", index_col = 'Unnamed: 0')"
   ]
  },
  {
   "cell_type": "markdown",
   "metadata": {
    "slideshow": {
     "slide_type": "subslide"
    }
   },
   "source": [
    "## Data Cleaning"
   ]
  },
  {
   "cell_type": "markdown",
   "metadata": {
    "slideshow": {
     "slide_type": "fragment"
    }
   },
   "source": [
    "We need to read and clean our data to put it in a state that is easy for our computer to handle. \n",
    "\n",
    "* First we are going to go to each column and add each value to a list, even blank values, which show up as 'NaN'\n",
    "* Then we create a list called cleanedList which removes all values names 'nan'\n",
    "* Assign the values to a list finalData\n",
    "\n",
    "The Next slide is how the data currently looks.\n",
    "\n",
    "We need to convert that into a list of just numbers, which is easy to evaluate"
   ]
  },
  {
   "cell_type": "code",
   "execution_count": 3,
   "metadata": {
    "pycharm": {
     "is_executing": false,
     "name": "#%%\n"
    },
    "slideshow": {
     "slide_type": "-"
    }
   },
   "outputs": [
    {
     "data": {
      "text/html": [
       "<div>\n",
       "<style scoped>\n",
       "    .dataframe tbody tr th:only-of-type {\n",
       "        vertical-align: middle;\n",
       "    }\n",
       "\n",
       "    .dataframe tbody tr th {\n",
       "        vertical-align: top;\n",
       "    }\n",
       "\n",
       "    .dataframe thead th {\n",
       "        text-align: right;\n",
       "    }\n",
       "</style>\n",
       "<table border=\"1\" class=\"dataframe\">\n",
       "  <thead>\n",
       "    <tr style=\"text-align: right;\">\n",
       "      <th></th>\n",
       "      <th>A</th>\n",
       "      <th>B</th>\n",
       "      <th>C</th>\n",
       "      <th>D</th>\n",
       "    </tr>\n",
       "  </thead>\n",
       "  <tbody>\n",
       "    <tr>\n",
       "      <th>Land</th>\n",
       "      <td>12041723</td>\n",
       "      <td>NaN</td>\n",
       "      <td>12041723.0</td>\n",
       "      <td>NaN</td>\n",
       "    </tr>\n",
       "    <tr>\n",
       "      <th>Buildings</th>\n",
       "      <td>37801365</td>\n",
       "      <td>5866347.0</td>\n",
       "      <td>31935018.0</td>\n",
       "      <td>NaN</td>\n",
       "    </tr>\n",
       "    <tr>\n",
       "      <th>Equipment</th>\n",
       "      <td>3045439</td>\n",
       "      <td>1702163.0</td>\n",
       "      <td>1343276.0</td>\n",
       "      <td>NaN</td>\n",
       "    </tr>\n",
       "    <tr>\n",
       "      <th>Other</th>\n",
       "      <td>3626520</td>\n",
       "      <td>2836227.0</td>\n",
       "      <td>790293.0</td>\n",
       "      <td>NaN</td>\n",
       "    </tr>\n",
       "    <tr>\n",
       "      <th>Capital lease obligations</th>\n",
       "      <td>11201579</td>\n",
       "      <td>NaN</td>\n",
       "      <td>NaN</td>\n",
       "      <td>NaN</td>\n",
       "    </tr>\n",
       "  </tbody>\n",
       "</table>\n",
       "</div>"
      ],
      "text/plain": [
       "                                  A          B           C   D\n",
       "Land                       12041723        NaN  12041723.0 NaN\n",
       "Buildings                  37801365  5866347.0  31935018.0 NaN\n",
       "Equipment                   3045439  1702163.0   1343276.0 NaN\n",
       "Other                       3626520  2836227.0    790293.0 NaN\n",
       "Capital lease obligations  11201579        NaN         NaN NaN"
      ]
     },
     "execution_count": 3,
     "metadata": {},
     "output_type": "execute_result"
    }
   ],
   "source": [
    "#an example of some of our data\n",
    "df.tail()"
   ]
  },
  {
   "cell_type": "markdown",
   "metadata": {
    "slideshow": {
     "slide_type": "subslide"
    }
   },
   "source": [
    "### Now we will clean the data"
   ]
  },
  {
   "cell_type": "code",
   "execution_count": 4,
   "metadata": {
    "pycharm": {
     "is_executing": false,
     "name": "#%%\n"
    },
    "slideshow": {
     "slide_type": "-"
    }
   },
   "outputs": [],
   "source": [
    "## Remove all \"nan\" values for blank cells\n",
    "all = []\n",
    "for x in df:\n",
    "    all.append(df[x].values)\n",
    "\n",
    "cData = []\n",
    "for i in range(0,3):\n",
    "    cleanedList = [x for x in all[i] if str(x) != 'nan']\n",
    "    cData.append(cleanedList)\n",
    "finalData = []\n",
    "for z in range(len(cData)):\n",
    "    for y in cData[z]:\n",
    "        finalData.append(y)\n",
    "#finalData is the cleaned data without nan values, we still have to clear the trailing decimal points and zeroes\n"
   ]
  },
  {
   "cell_type": "markdown",
   "metadata": {
    "slideshow": {
     "slide_type": "subslide"
    }
   },
   "source": [
    "**We need to clean the trailing 0 and decimal place.**"
   ]
  },
  {
   "cell_type": "code",
   "execution_count": 5,
   "metadata": {
    "pycharm": {
     "is_executing": false,
     "name": "#%%\n"
    },
    "slideshow": {
     "slide_type": "-"
    }
   },
   "outputs": [],
   "source": [
    "#this for and if loop evaluates if the value ends with '.0' and if it does, the last two digits are removed\n",
    "for val in range(len(finalData)):\n",
    "    if str(finalData[val])[-2:] == '.0':\n",
    "        finalData[val] = str(finalData[val])[:-2]"
   ]
  },
  {
   "cell_type": "markdown",
   "metadata": {
    "slideshow": {
     "slide_type": "subslide"
    }
   },
   "source": [
    "## The Data is now cleaned and ready for analysis. \n",
    "\n",
    "#### Below is how the data looks now.\n",
    "\n",
    "You may have noticed some of the data has quotation marks around them. That is because they are strings. In other words your computer views the string as a word, instead of a number that can be used in math functions. This wont matter in the future as we are going to convert everything to type string later."
   ]
  },
  {
   "cell_type": "code",
   "execution_count": 45,
   "metadata": {
    "pycharm": {
     "is_executing": false,
     "name": "#%%\n"
    },
    "slideshow": {
     "slide_type": "-"
    }
   },
   "outputs": [
    {
     "name": "stdout",
     "output_type": "stream",
     "text": [
      "['3834833', '36926019', '735579', '396641', '78400', '23543', '259816', '205983', '58833', '24822', '587914', '22336', '101153', '5514388', '2104545', '11303061', '455081', '335673', '6650616', '265798', '118048', '1552635', '336687', '1586477', '556715', '3690707', '560113', '754573', '1450405', '183486', '350531', '623581', '122722', '130526', '258036', '42737986', '38904404', '3833581', '14893635', '131765', '18595451', '12041723', '37801365', '3045439', '3626520', '11201579', '988439', '9774868', '265181', '5281646', '25027', '277114', '275934', '472770', '355273', '235485', '372252', '596599', '84219', '456298', '122564', '236144', '5866347', '1702163', '2836227', '1116106', '862767', '53120', '1071886', '240341', '1123160', '2817', '1070534', '195275', '3433336', '93309', '103211', '99267', '151743', '7697', '19877', '12041723', '31935018', '1343276', '790293']\n"
     ]
    }
   ],
   "source": [
    "print(finalData)"
   ]
  },
  {
   "cell_type": "markdown",
   "metadata": {
    "slideshow": {
     "slide_type": "slide"
    }
   },
   "source": [
    "# Analysis"
   ]
  },
  {
   "cell_type": "markdown",
   "metadata": {
    "slideshow": {
     "slide_type": "subslide"
    }
   },
   "source": [
    "***Number Selection***\n",
    "\n",
    "We have all of our Data in one long list with every number. Now is a good time to discuss what numbers were chosen from the 990 and what numbers were ignored...\n",
    "\n",
    "I intentionally only chose significant, unique numbers that were not entirely dependent on other numbers already included in the data set. I tried to use as few 'totals' and 'subtotals' that were calculated off the sheet as I could.\n",
    "\n",
    "What this means is that almost every number included here was directly input into the 990 with little supporting documentation available to me. For an example: The account titled, \"Contributions, gifts and grants\" is a 'totaled' account... but we cannot view the documents and receipts that comprise this total. Therefore there is an opportunity for mistakes or fraud in the number reported."
   ]
  },
  {
   "cell_type": "markdown",
   "metadata": {
    "slideshow": {
     "slide_type": "subslide"
    }
   },
   "source": [
    "***Analysis Section***\n",
    "\n",
    "This is a long one so bear with me. In this section we define functions to parse through our data list and break out the first, second and third digit so we may examine and count them. Then we call the functions and graph the results. \n",
    "\n",
    "Excuse the prehistoric looking graphs at this point... I am working on creating them using a different engine, but you get what you get.\n",
    "\n",
    "When we have our core data, we do some data manipulation to examine the standard deviations and skew of our results against their expected values, which yields some quite interesting results. \n",
    "\n",
    "Lastly we create data structures which contain our list of results along with their corresponding expected values, and the difference between them. We do this in case we later want to add more statistics to each section, it will also make the final data analysis easier."
   ]
  },
  {
   "cell_type": "markdown",
   "metadata": {
    "slideshow": {
     "slide_type": "subslide"
    }
   },
   "source": [
    "### Define Functions\n",
    "\n",
    "First we will define a set of functions that are all the different tests for the first second and third digit, as shown on the next page."
   ]
  },
  {
   "cell_type": "code",
   "execution_count": 7,
   "metadata": {
    "pycharm": {
     "is_executing": false,
     "name": "#%%\n"
    },
    "slideshow": {
     "slide_type": "-"
    }
   },
   "outputs": [],
   "source": [
    "def firstDigit(input_list):\n",
    "    myList = [0,0,0,0,0,0,0,0,0]\n",
    "    for num in input_list:\n",
    "        output = str(num)[:1]\n",
    "        myList[int(output)-1] += 1\n",
    "    return myList\n",
    "\n",
    "def secondDigit(input_list):\n",
    "    myList = [0,0,0,0,0,0,0,0,0,0]\n",
    "    for num in input_list:\n",
    "        output = str(num)[1:2]\n",
    "        myList[int(output)] += 1\n",
    "    return myList\n",
    "\n",
    "def thirdDigit(input_list):\n",
    "    myList = [0,0,0,0,0,0,0,0,0,0]\n",
    "    for num in input_list:\n",
    "        output = str(num)[2:3]\n",
    "        myList[int(output)] += 1\n",
    "    return myList\n"
   ]
  },
  {
   "cell_type": "markdown",
   "metadata": {
    "slideshow": {
     "slide_type": "subslide"
    }
   },
   "source": [
    "Next, we run the functions on our cleaned Data"
   ]
  },
  {
   "cell_type": "code",
   "execution_count": 8,
   "metadata": {
    "pycharm": {
     "is_executing": false,
     "name": "#%%\n"
    },
    "slideshow": {
     "slide_type": "-"
    }
   },
   "outputs": [],
   "source": [
    "second_Digit = secondDigit(finalData)\n",
    "third_Digit = thirdDigit(finalData)\n",
    "first_Digit = firstDigit(finalData)"
   ]
  },
  {
   "cell_type": "markdown",
   "metadata": {
    "slideshow": {
     "slide_type": "fragment"
    }
   },
   "source": [
    "...and we also create a data frame of each of the percentiles expected according to Benford's law.\n",
    "As you can see, the dataframe makes the values quite easy to read."
   ]
  },
  {
   "cell_type": "code",
   "execution_count": 9,
   "metadata": {
    "pycharm": {
     "is_executing": false,
     "name": "#%%\n"
    },
    "slideshow": {
     "slide_type": "skip"
    }
   },
   "outputs": [],
   "source": [
    "Benford_percentiles = pd.DataFrame({\n",
    "    'First Digit Expected': [0, .301, .176, .125, .097, .079, .067, .058, .051, .046],\n",
    "    'Second Digit Expected': [.12, .114, .109, .104, .100, .097, .093, .090, .088, .085],\n",
    "    'Third Digit Expected': [.102, .101, .101, .101, .100, .100, .099, .099, .099, .098]\n",
    "                                    })"
   ]
  },
  {
   "cell_type": "code",
   "execution_count": 10,
   "metadata": {
    "pycharm": {
     "is_executing": false,
     "name": "#%%\n"
    },
    "slideshow": {
     "slide_type": "-"
    }
   },
   "outputs": [
    {
     "data": {
      "text/html": [
       "<div>\n",
       "<style scoped>\n",
       "    .dataframe tbody tr th:only-of-type {\n",
       "        vertical-align: middle;\n",
       "    }\n",
       "\n",
       "    .dataframe tbody tr th {\n",
       "        vertical-align: top;\n",
       "    }\n",
       "\n",
       "    .dataframe thead th {\n",
       "        text-align: right;\n",
       "    }\n",
       "</style>\n",
       "<table border=\"1\" class=\"dataframe\">\n",
       "  <thead>\n",
       "    <tr style=\"text-align: right;\">\n",
       "      <th></th>\n",
       "      <th>First Digit Expected</th>\n",
       "      <th>Second Digit Expected</th>\n",
       "      <th>Third Digit Expected</th>\n",
       "    </tr>\n",
       "  </thead>\n",
       "  <tbody>\n",
       "    <tr>\n",
       "      <th>0</th>\n",
       "      <td>0.000</td>\n",
       "      <td>0.120</td>\n",
       "      <td>0.102</td>\n",
       "    </tr>\n",
       "    <tr>\n",
       "      <th>1</th>\n",
       "      <td>0.301</td>\n",
       "      <td>0.114</td>\n",
       "      <td>0.101</td>\n",
       "    </tr>\n",
       "    <tr>\n",
       "      <th>2</th>\n",
       "      <td>0.176</td>\n",
       "      <td>0.109</td>\n",
       "      <td>0.101</td>\n",
       "    </tr>\n",
       "    <tr>\n",
       "      <th>3</th>\n",
       "      <td>0.125</td>\n",
       "      <td>0.104</td>\n",
       "      <td>0.101</td>\n",
       "    </tr>\n",
       "    <tr>\n",
       "      <th>4</th>\n",
       "      <td>0.097</td>\n",
       "      <td>0.100</td>\n",
       "      <td>0.100</td>\n",
       "    </tr>\n",
       "    <tr>\n",
       "      <th>5</th>\n",
       "      <td>0.079</td>\n",
       "      <td>0.097</td>\n",
       "      <td>0.100</td>\n",
       "    </tr>\n",
       "    <tr>\n",
       "      <th>6</th>\n",
       "      <td>0.067</td>\n",
       "      <td>0.093</td>\n",
       "      <td>0.099</td>\n",
       "    </tr>\n",
       "    <tr>\n",
       "      <th>7</th>\n",
       "      <td>0.058</td>\n",
       "      <td>0.090</td>\n",
       "      <td>0.099</td>\n",
       "    </tr>\n",
       "    <tr>\n",
       "      <th>8</th>\n",
       "      <td>0.051</td>\n",
       "      <td>0.088</td>\n",
       "      <td>0.099</td>\n",
       "    </tr>\n",
       "    <tr>\n",
       "      <th>9</th>\n",
       "      <td>0.046</td>\n",
       "      <td>0.085</td>\n",
       "      <td>0.098</td>\n",
       "    </tr>\n",
       "  </tbody>\n",
       "</table>\n",
       "</div>"
      ],
      "text/plain": [
       "   First Digit Expected  Second Digit Expected  Third Digit Expected\n",
       "0                 0.000                  0.120                 0.102\n",
       "1                 0.301                  0.114                 0.101\n",
       "2                 0.176                  0.109                 0.101\n",
       "3                 0.125                  0.104                 0.101\n",
       "4                 0.097                  0.100                 0.100\n",
       "5                 0.079                  0.097                 0.100\n",
       "6                 0.067                  0.093                 0.099\n",
       "7                 0.058                  0.090                 0.099\n",
       "8                 0.051                  0.088                 0.099\n",
       "9                 0.046                  0.085                 0.098"
      ]
     },
     "execution_count": 10,
     "metadata": {},
     "output_type": "execute_result"
    }
   ],
   "source": [
    "Benford_percentiles"
   ]
  },
  {
   "cell_type": "markdown",
   "metadata": {
    "slideshow": {
     "slide_type": "subslide"
    }
   },
   "source": [
    "## Graphing\n",
    "\n",
    "We graph the functions here to visually analyze the data first. This is useful for two reasons.\n",
    "\n",
    " - First it is good for error catching, in case we made a mistake with our earlier code\n",
    " - Second, we can see if there are any numbers that clearly stick our more than others. This will be useful to compare to our final answer in case the numbers differ"
   ]
  },
  {
   "cell_type": "code",
   "execution_count": 11,
   "metadata": {
    "pycharm": {
     "is_executing": false,
     "name": "#%%\n"
    },
    "slideshow": {
     "slide_type": "skip"
    }
   },
   "outputs": [],
   "source": [
    "#This is just a quick script to separate out the expected first digit from the rest of the Data Frame as these are on a\n",
    "#scale of 1-9 instead of 0-9 like the second and third digits\n",
    "First_digit_benfords = []\n",
    "for x in Benford_percentiles['First Digit Expected']:\n",
    "    if x > 0:\n",
    "        First_digit_benfords.append(x)"
   ]
  },
  {
   "cell_type": "markdown",
   "metadata": {
    "slideshow": {
     "slide_type": "subslide"
    }
   },
   "source": [
    "### First Digit Test"
   ]
  },
  {
   "cell_type": "code",
   "execution_count": 12,
   "metadata": {
    "pycharm": {
     "is_executing": false,
     "name": "#%%\n"
    },
    "slideshow": {
     "slide_type": "-"
    }
   },
   "outputs": [
    {
     "data": {
      "text/plain": [
       "<function matplotlib.pyplot.show(*args, **kw)>"
      ]
     },
     "execution_count": 12,
     "metadata": {},
     "output_type": "execute_result"
    },
    {
     "data": {
      "image/png": "[encoded data removed]",
      "text/plain": [
       "<Figure size 432x288 with 1 Axes>"
      ]
     },
     "metadata": {
      "needs_background": "light"
     },
     "output_type": "display_data"
    }
   ],
   "source": [
    "first_digit_percentile = [(x / sum(first_Digit)) for x in first_Digit]\n",
    "fig = plt.figure()\n",
    "ax = fig.add_axes([0,0,1,1])\n",
    "index = ['1', '2', '3', '4', '5', '6', '7', '8', '9']\n",
    "x = np.arange(len(index))\n",
    "plt.xticks(x, index)\n",
    "ax.plot(x, First_digit_benfords, label= 'Actual')\n",
    "ax.plot(x, first_digit_percentile, label= 'Expected')\n",
    "plt.title('First Digit; Expected values are in blue, actual are in orange')\n",
    "plt.show()"
   ]
  },
  {
   "cell_type": "markdown",
   "metadata": {
    "slideshow": {
     "slide_type": "subslide"
    }
   },
   "source": [
    "### Second Digit Test"
   ]
  },
  {
   "cell_type": "code",
   "execution_count": 0,
   "metadata": {
    "pycharm": {
     "is_executing": false,
     "name": "#%%\n"
    },
    "slideshow": {
     "slide_type": "-"
    }
   },
   "outputs": [
    {
     "name": "stderr",
     "text": [
      "Could not connect to 127.0.0.1: 51407\n",
      "Traceback (most recent call last):\n",
      "  File \"C:\\Program Files\\JetBrains\\PyCharm 2019.2.4\\plugins\\python\\helpers\\pydev\\_pydevd_bundle\\pydevd_comm.py\", line 449, in start_client\n",
      "    s.connect((host, port))\n",
      "ConnectionRefusedError: [WinError 10061] No connection could be made because the target machine actively refused it\n",
      "Traceback (most recent call last):\n",
      "  File \"C:\\Program Files\\JetBrains\\PyCharm 2019.2.4\\plugins\\python\\helpers-pro\\jupyter_debug\\pydev_jupyter_utils.py\", line 68, in attach_to_debugger\n",
      "    debugger.connect(pydev_localhost.get_localhost(), debugger_port)\n",
      "  File \"C:\\Program Files\\JetBrains\\PyCharm 2019.2.4\\plugins\\python\\helpers\\pydev\\pydevd.py\", line 607, in connect\n",
      "    s = start_client(host, port)\n",
      "  File \"C:\\Program Files\\JetBrains\\PyCharm 2019.2.4\\plugins\\python\\helpers\\pydev\\_pydevd_bundle\\pydevd_comm.py\", line 449, in start_client\n",
      "    s.connect((host, port))\n",
      "ConnectionRefusedError: [WinError 10061] No connection could be made because the target machine actively refused it\n",
      "Failed to connect to target debugger.\n"
     ],
     "output_type": "stream"
    }
   ],
   "source": [
    "second_Digit_percentile = [(x / sum(second_Digit)) for x in second_Digit]\n",
    "fig = plt.figure()\n",
    "ax = fig.add_axes([0,0,1,1])\n",
    "index = ['0', '1', '2', '3', '4', '5', '6', '7', '8', '9']\n",
    "x = np.arange(len(index))\n",
    "plt.xticks(x, index)\n",
    "ax.plot(x, Benford_percentiles['Second Digit Expected'])\n",
    "ax.plot(x, second_Digit_percentile)\n",
    "plt.title('Second Digit; Expected values are in blue, actual are in orange')\n",
    "plt.show()"
   ]
  },
  {
   "cell_type": "markdown",
   "metadata": {
    "slideshow": {
     "slide_type": "subslide"
    }
   },
   "source": [
    "### Third Digit Test"
   ]
  },
  {
   "cell_type": "code",
   "execution_count": 14,
   "metadata": {
    "pycharm": {
     "is_executing": false,
     "name": "#%%\n"
    },
    "slideshow": {
     "slide_type": "-"
    }
   },
   "outputs": [
    {
     "data": {
      "image/png": "[encoded data removed]",
      "text/plain": [
       "<Figure size 432x288 with 1 Axes>"
      ]
     },
     "metadata": {
      "needs_background": "light"
     },
     "output_type": "display_data"
    }
   ],
   "source": [
    "third_Digit_percentile = [(x / sum(third_Digit)) for x in third_Digit]\n",
    "fig = plt.figure()\n",
    "ax = fig.add_axes([0,0,1,1])\n",
    "index = ['0', '1', '2', '3', '4', '5', '6', '7', '8', '9']\n",
    "x = np.arange(len(index))\n",
    "plt.xticks(x, index)\n",
    "ax.plot(x, Benford_percentiles['Third Digit Expected'])\n",
    "ax.plot(x, third_Digit_percentile)\n",
    "plt.title('Third Digit; Expected values are in blue, actual are in orange')\n",
    "plt.show()"
   ]
  },
  {
   "cell_type": "markdown",
   "metadata": {
    "slideshow": {
     "slide_type": "subslide"
    }
   },
   "source": [
    "## First Conclusions:\n",
    "* **First Digit Test**\n",
    "    * The first digit test didnt tell us a lot of information. The data seems to conform to benford's law with some deviation possible with the digit 3. We will examine this data again later to see if three is significantly different than its expected value.\n",
    "  \n",
    "* **Second Digit Test**\n",
    "    * The Second digit test was more telling with nearly *no* zeroes, fours and nines. At least according to the graph. Three, five and eight also are suspiciously distributed.\n",
    "    \n",
    "* **Third Digit Test**\n",
    "    * The third digit test seems to reveal numbers close to their expected values, with most digits staying with 2% except for four and five. Since we aren't testing directly for deficiencies of numbers, we will probably examine just number 5.\n"
   ]
  },
  {
   "cell_type": "markdown",
   "metadata": {
    "slideshow": {
     "slide_type": "subslide"
    }
   },
   "source": [
    "**Now we are creating a DataFrame which just makes our data easier to manipulate**"
   ]
  },
  {
   "cell_type": "code",
   "execution_count": 15,
   "metadata": {
    "pycharm": {
     "is_executing": false,
     "name": "#%%\n"
    },
    "slideshow": {
     "slide_type": "-"
    }
   },
   "outputs": [],
   "source": [
    "#reinitialize these variables before I alter them just to keep the code clean\n",
    "first_digit_percentile = [(x / sum(first_Digit)) for x in first_Digit]\n",
    "first_digit_percentile.insert(0, 0)\n",
    "index = ['0', '1', '2', '3', '4', '5', '6', '7', '8', '9']\n",
    "\n",
    "final_series = {'First Digit Test': first_digit_percentile,\n",
    "                'Second Digit Test': second_Digit_percentile,\n",
    "                'Third Digit Test': third_Digit_percentile}\n",
    "digit_df = pd.DataFrame(data=final_series, index=index)\n",
    "final_df = pd.merge(digit_df, Benford_percentiles, on=digit_df.index, how='outer')"
   ]
  },
  {
   "cell_type": "markdown",
   "metadata": {
    "slideshow": {
     "slide_type": "subslide"
    }
   },
   "source": [
    "**Lets we combine the data to view it all together and manipulate it**"
   ]
  },
  {
   "cell_type": "code",
   "execution_count": 16,
   "metadata": {
    "pycharm": {
     "is_executing": false,
     "name": "#%%\n"
    }
   },
   "outputs": [
    {
     "data": {
      "text/html": [
       "<div>\n",
       "<style scoped>\n",
       "    .dataframe tbody tr th:only-of-type {\n",
       "        vertical-align: middle;\n",
       "    }\n",
       "\n",
       "    .dataframe tbody tr th {\n",
       "        vertical-align: top;\n",
       "    }\n",
       "\n",
       "    .dataframe thead th {\n",
       "        text-align: right;\n",
       "    }\n",
       "</style>\n",
       "<table border=\"1\" class=\"dataframe\">\n",
       "  <thead>\n",
       "    <tr style=\"text-align: right;\">\n",
       "      <th></th>\n",
       "      <th>key_0</th>\n",
       "      <th>First Digit Test</th>\n",
       "      <th>Second Digit Test</th>\n",
       "      <th>Third Digit Test</th>\n",
       "      <th>First Digit Expected</th>\n",
       "      <th>Second Digit Expected</th>\n",
       "      <th>Third Digit Expected</th>\n",
       "    </tr>\n",
       "  </thead>\n",
       "  <tbody>\n",
       "    <tr>\n",
       "      <th>0</th>\n",
       "      <td>0</td>\n",
       "      <td>0.000000</td>\n",
       "      <td>0.070588</td>\n",
       "      <td>0.117647</td>\n",
       "      <td>0.000</td>\n",
       "      <td>0.120</td>\n",
       "      <td>0.102</td>\n",
       "    </tr>\n",
       "    <tr>\n",
       "      <th>1</th>\n",
       "      <td>1</td>\n",
       "      <td>0.305882</td>\n",
       "      <td>0.082353</td>\n",
       "      <td>0.082353</td>\n",
       "      <td>0.301</td>\n",
       "      <td>0.114</td>\n",
       "      <td>0.101</td>\n",
       "    </tr>\n",
       "    <tr>\n",
       "      <th>2</th>\n",
       "      <td>2</td>\n",
       "      <td>0.200000</td>\n",
       "      <td>0.094118</td>\n",
       "      <td>0.117647</td>\n",
       "      <td>0.176</td>\n",
       "      <td>0.109</td>\n",
       "      <td>0.101</td>\n",
       "    </tr>\n",
       "    <tr>\n",
       "      <th>3</th>\n",
       "      <td>3</td>\n",
       "      <td>0.188235</td>\n",
       "      <td>0.129412</td>\n",
       "      <td>0.117647</td>\n",
       "      <td>0.125</td>\n",
       "      <td>0.104</td>\n",
       "      <td>0.101</td>\n",
       "    </tr>\n",
       "    <tr>\n",
       "      <th>4</th>\n",
       "      <td>4</td>\n",
       "      <td>0.047059</td>\n",
       "      <td>0.070588</td>\n",
       "      <td>0.047059</td>\n",
       "      <td>0.097</td>\n",
       "      <td>0.100</td>\n",
       "      <td>0.100</td>\n",
       "    </tr>\n",
       "    <tr>\n",
       "      <th>5</th>\n",
       "      <td>5</td>\n",
       "      <td>0.105882</td>\n",
       "      <td>0.152941</td>\n",
       "      <td>0.176471</td>\n",
       "      <td>0.079</td>\n",
       "      <td>0.097</td>\n",
       "      <td>0.100</td>\n",
       "    </tr>\n",
       "    <tr>\n",
       "      <th>6</th>\n",
       "      <td>6</td>\n",
       "      <td>0.023529</td>\n",
       "      <td>0.105882</td>\n",
       "      <td>0.082353</td>\n",
       "      <td>0.067</td>\n",
       "      <td>0.093</td>\n",
       "      <td>0.099</td>\n",
       "    </tr>\n",
       "    <tr>\n",
       "      <th>7</th>\n",
       "      <td>7</td>\n",
       "      <td>0.058824</td>\n",
       "      <td>0.082353</td>\n",
       "      <td>0.070588</td>\n",
       "      <td>0.058</td>\n",
       "      <td>0.090</td>\n",
       "      <td>0.099</td>\n",
       "    </tr>\n",
       "    <tr>\n",
       "      <th>8</th>\n",
       "      <td>8</td>\n",
       "      <td>0.023529</td>\n",
       "      <td>0.141176</td>\n",
       "      <td>0.117647</td>\n",
       "      <td>0.051</td>\n",
       "      <td>0.088</td>\n",
       "      <td>0.099</td>\n",
       "    </tr>\n",
       "    <tr>\n",
       "      <th>9</th>\n",
       "      <td>9</td>\n",
       "      <td>0.047059</td>\n",
       "      <td>0.070588</td>\n",
       "      <td>0.070588</td>\n",
       "      <td>0.046</td>\n",
       "      <td>0.085</td>\n",
       "      <td>0.098</td>\n",
       "    </tr>\n",
       "  </tbody>\n",
       "</table>\n",
       "</div>"
      ],
      "text/plain": [
       "  key_0  First Digit Test  Second Digit Test  Third Digit Test  \\\n",
       "0     0          0.000000           0.070588          0.117647   \n",
       "1     1          0.305882           0.082353          0.082353   \n",
       "2     2          0.200000           0.094118          0.117647   \n",
       "3     3          0.188235           0.129412          0.117647   \n",
       "4     4          0.047059           0.070588          0.047059   \n",
       "5     5          0.105882           0.152941          0.176471   \n",
       "6     6          0.023529           0.105882          0.082353   \n",
       "7     7          0.058824           0.082353          0.070588   \n",
       "8     8          0.023529           0.141176          0.117647   \n",
       "9     9          0.047059           0.070588          0.070588   \n",
       "\n",
       "   First Digit Expected  Second Digit Expected  Third Digit Expected  \n",
       "0                 0.000                  0.120                 0.102  \n",
       "1                 0.301                  0.114                 0.101  \n",
       "2                 0.176                  0.109                 0.101  \n",
       "3                 0.125                  0.104                 0.101  \n",
       "4                 0.097                  0.100                 0.100  \n",
       "5                 0.079                  0.097                 0.100  \n",
       "6                 0.067                  0.093                 0.099  \n",
       "7                 0.058                  0.090                 0.099  \n",
       "8                 0.051                  0.088                 0.099  \n",
       "9                 0.046                  0.085                 0.098  "
      ]
     },
     "execution_count": 16,
     "metadata": {},
     "output_type": "execute_result"
    }
   ],
   "source": [
    "final_df"
   ]
  },
  {
   "cell_type": "markdown",
   "metadata": {
    "slideshow": {
     "slide_type": "subslide"
    }
   },
   "source": [
    "**Let us view the box plot for our data**"
   ]
  },
  {
   "cell_type": "code",
   "execution_count": 17,
   "metadata": {
    "pycharm": {
     "is_executing": false,
     "name": "#%%\n"
    },
    "slideshow": {
     "slide_type": "fragment"
    }
   },
   "outputs": [
    {
     "data": {
      "text/plain": [
       "<matplotlib.axes._subplots.AxesSubplot at 0x1950aa4b278>"
      ]
     },
     "execution_count": 17,
     "metadata": {},
     "output_type": "execute_result"
    },
    {
     "data": {
      "image/png": "[encoded data removed]",
      "text/plain": [
       "<Figure size 432x288 with 1 Axes>"
      ]
     },
     "metadata": {
      "needs_background": "light"
     },
     "output_type": "display_data"
    }
   ],
   "source": [
    "final_df.plot(kind='box', rot=-30)"
   ]
  },
  {
   "cell_type": "markdown",
   "metadata": {
    "slideshow": {
     "slide_type": "fragment"
    }
   },
   "source": [
    "Normally one would expect strong similarities between a digit test and its expected result in terms of its box plot statistics... although our small sample size may have hindered our results"
   ]
  },
  {
   "cell_type": "code",
   "execution_count": 43,
   "metadata": {
    "pycharm": {
     "is_executing": false,
     "name": "#%%\n"
    },
    "slideshow": {
     "slide_type": "subslide"
    }
   },
   "outputs": [
    {
     "name": "stdout",
     "output_type": "stream",
     "text": [
      "Skew\n",
      " key_0                    0.000000\n",
      "First Digit Test         1.147558\n",
      "Second Digit Test        0.728589\n",
      "Third Digit Test         0.716166\n",
      "First Digit Expected     1.609226\n",
      "Second Digit Expected    0.445641\n",
      "Third Digit Expected     0.000000\n",
      "dtype: float64 \n",
      "Kurtosis:\n",
      " key_0                   -1.200000\n",
      "First Digit Test         0.424606\n",
      "Second Digit Test       -1.050789\n",
      "Third Digit Test         0.860344\n",
      "First Digit Expected     3.032587\n",
      "Second Digit Expected   -0.905766\n",
      "Third Digit Expected    -0.911808\n",
      "dtype: float64\n"
     ]
    }
   ],
   "source": [
    "print('Skew\\n', final_df.skew(), '\\nKurtosis:\\n', final_df.kurt())"
   ]
  },
  {
   "cell_type": "markdown",
   "metadata": {
    "slideshow": {
     "slide_type": "subslide"
    }
   },
   "source": [
    "**Especially insteresting is the cell below which shows the actual standard deviations and the expected standard deviations which differ vastly on the second and third digit test**"
   ]
  },
  {
   "cell_type": "code",
   "execution_count": 19,
   "metadata": {
    "pycharm": {
     "is_executing": false,
     "name": "#%%\n"
    },
    "slideshow": {
     "slide_type": "-"
    }
   },
   "outputs": [
    {
     "data": {
      "text/plain": [
       "First Digit Test         0.099557\n",
       "Second Digit Test        0.031003\n",
       "Third Digit Test         0.036892\n",
       "First Digit Expected     0.085259\n",
       "Second Digit Expected    0.011643\n",
       "Third Digit Expected     0.001247\n",
       "dtype: float64"
      ]
     },
     "execution_count": 19,
     "metadata": {},
     "output_type": "execute_result"
    }
   ],
   "source": [
    "final_df.std()"
   ]
  },
  {
   "cell_type": "markdown",
   "metadata": {
    "slideshow": {
     "slide_type": "subslide"
    }
   },
   "source": [
    "**Now we need to find out where we are finding these abnormal digit counts.**\n",
    "\n",
    "-In order to do that we will separate each digit test into its own data sheet and then find their differences\n",
    "\n",
    "-Once we have found the differences, we will establish a threshold for error. In our case I chose 5%. \n",
    "\n",
    "-So if a number is more than 5% away from the expected value based on Benford's law, then this program should select it."
   ]
  },
  {
   "cell_type": "code",
   "execution_count": 20,
   "metadata": {
    "pycharm": {
     "is_executing": false,
     "name": "#%%\n"
    },
    "slideshow": {
     "slide_type": "subslide"
    }
   },
   "outputs": [],
   "source": [
    "def myDataFrame(sample, digit_test, expected):\n",
    "    difference = []\n",
    "    for x in range(len(digit_test)):\n",
    "        difference.append(digit_test[x]-expected[x])\n",
    "    if len(sample) < 10:\n",
    "        sample.insert(0, 0)\n",
    "    output = pd.DataFrame({\n",
    "        'Sample Count': sample, \n",
    "        'Digit Test (%)': digit_test, \n",
    "        'Expected Values (%)': expected, \n",
    "        'Difference (%)': difference\n",
    "                        })\n",
    "    return output"
   ]
  },
  {
   "cell_type": "code",
   "execution_count": 21,
   "metadata": {
    "pycharm": {
     "is_executing": false,
     "name": "#%%\n"
    },
    "slideshow": {
     "slide_type": "subslide"
    }
   },
   "outputs": [
    {
     "data": {
      "text/html": [
       "<div>\n",
       "<style scoped>\n",
       "    .dataframe tbody tr th:only-of-type {\n",
       "        vertical-align: middle;\n",
       "    }\n",
       "\n",
       "    .dataframe tbody tr th {\n",
       "        vertical-align: top;\n",
       "    }\n",
       "\n",
       "    .dataframe thead th {\n",
       "        text-align: right;\n",
       "    }\n",
       "</style>\n",
       "<table border=\"1\" class=\"dataframe\">\n",
       "  <thead>\n",
       "    <tr style=\"text-align: right;\">\n",
       "      <th></th>\n",
       "      <th>Sample Count</th>\n",
       "      <th>Digit Test (%)</th>\n",
       "      <th>Expected Values (%)</th>\n",
       "      <th>Difference (%)</th>\n",
       "    </tr>\n",
       "  </thead>\n",
       "  <tbody>\n",
       "    <tr>\n",
       "      <th>0</th>\n",
       "      <td>0</td>\n",
       "      <td>0.00</td>\n",
       "      <td>0.0</td>\n",
       "      <td>0.00</td>\n",
       "    </tr>\n",
       "    <tr>\n",
       "      <th>1</th>\n",
       "      <td>26</td>\n",
       "      <td>30.59</td>\n",
       "      <td>30.1</td>\n",
       "      <td>0.49</td>\n",
       "    </tr>\n",
       "    <tr>\n",
       "      <th>2</th>\n",
       "      <td>17</td>\n",
       "      <td>20.00</td>\n",
       "      <td>17.6</td>\n",
       "      <td>2.40</td>\n",
       "    </tr>\n",
       "    <tr>\n",
       "      <th>3</th>\n",
       "      <td>16</td>\n",
       "      <td>18.82</td>\n",
       "      <td>12.5</td>\n",
       "      <td>6.32</td>\n",
       "    </tr>\n",
       "    <tr>\n",
       "      <th>4</th>\n",
       "      <td>4</td>\n",
       "      <td>4.71</td>\n",
       "      <td>9.7</td>\n",
       "      <td>-4.99</td>\n",
       "    </tr>\n",
       "    <tr>\n",
       "      <th>5</th>\n",
       "      <td>9</td>\n",
       "      <td>10.59</td>\n",
       "      <td>7.9</td>\n",
       "      <td>2.69</td>\n",
       "    </tr>\n",
       "    <tr>\n",
       "      <th>6</th>\n",
       "      <td>2</td>\n",
       "      <td>2.35</td>\n",
       "      <td>6.7</td>\n",
       "      <td>-4.35</td>\n",
       "    </tr>\n",
       "    <tr>\n",
       "      <th>7</th>\n",
       "      <td>5</td>\n",
       "      <td>5.88</td>\n",
       "      <td>5.8</td>\n",
       "      <td>0.08</td>\n",
       "    </tr>\n",
       "    <tr>\n",
       "      <th>8</th>\n",
       "      <td>2</td>\n",
       "      <td>2.35</td>\n",
       "      <td>5.1</td>\n",
       "      <td>-2.75</td>\n",
       "    </tr>\n",
       "    <tr>\n",
       "      <th>9</th>\n",
       "      <td>4</td>\n",
       "      <td>4.71</td>\n",
       "      <td>4.6</td>\n",
       "      <td>0.11</td>\n",
       "    </tr>\n",
       "  </tbody>\n",
       "</table>\n",
       "</div>"
      ],
      "text/plain": [
       "   Sample Count  Digit Test (%)  Expected Values (%)  Difference (%)\n",
       "0             0            0.00                  0.0            0.00\n",
       "1            26           30.59                 30.1            0.49\n",
       "2            17           20.00                 17.6            2.40\n",
       "3            16           18.82                 12.5            6.32\n",
       "4             4            4.71                  9.7           -4.99\n",
       "5             9           10.59                  7.9            2.69\n",
       "6             2            2.35                  6.7           -4.35\n",
       "7             5            5.88                  5.8            0.08\n",
       "8             2            2.35                  5.1           -2.75\n",
       "9             4            4.71                  4.6            0.11"
      ]
     },
     "execution_count": 21,
     "metadata": {},
     "output_type": "execute_result"
    }
   ],
   "source": [
    "#This runs the function we created before on each of my different tests\n",
    "first_digit_df = myDataFrame(first_Digit, final_df['First Digit Test'], final_df['First Digit Expected'])\n",
    "second_digit_df = myDataFrame(second_Digit, final_df['Second Digit Test'], final_df['Second Digit Expected'])\n",
    "third_digit_df = myDataFrame(third_Digit, final_df['Third Digit Test'], final_df['Third Digit Expected'])\n",
    "\n",
    "#now I convert the numbers into percentage values to make my data tables more readable\n",
    "for x in [first_digit_df, second_digit_df, third_digit_df]:\n",
    "    for y in ['Digit Test (%)', 'Expected Values (%)', 'Difference (%)']:\n",
    "        x[y] = round(x[y].apply(lambda i: i*100), 2)\n",
    "\n",
    "#Below is an example of the completed data table\n",
    "first_digit_df"
   ]
  },
  {
   "cell_type": "markdown",
   "metadata": {
    "slideshow": {
     "slide_type": "subslide"
    }
   },
   "source": [
    "## Before Moving On\n",
    "Before doing our final analysis, locating of the accounts and our conclusion, we will explore the last-two test. This test checks for rounding of numbers by examining the last two digits in our entire data-sets, and looking for highly used numbers and abnormally grouped numbers."
   ]
  },
  {
   "cell_type": "markdown",
   "metadata": {
    "slideshow": {
     "slide_type": "slide"
    }
   },
   "source": [
    "# Last-Two Test"
   ]
  },
  {
   "cell_type": "markdown",
   "metadata": {
    "slideshow": {
     "slide_type": "subslide"
    }
   },
   "source": [
    "**Before we finish analyzing our earlier data, lets examine the last two digits to determine whether or not rounding was used**\n",
    "\n",
    "First lets define our expectations for the last two digits. \n",
    "\n",
    "* Not including items in the cents place we should expect to see an even distribution across all numbers between 00-99\n",
    "* Something that may corrupt our dataset is that we dont even have 100 different numbers (around 95 unique numbers)\n",
    "* However, if we see a significant repetition or grouping of some numbers over others then there may be a case of rounding to be made"
   ]
  },
  {
   "cell_type": "markdown",
   "metadata": {
    "slideshow": {
     "slide_type": "subslide"
    }
   },
   "source": [
    "### Now lets define a function to count the iterations of the last two digits of every number"
   ]
  },
  {
   "cell_type": "code",
   "execution_count": 22,
   "metadata": {
    "pycharm": {
     "is_executing": false,
     "name": "#%%\n"
    },
    "slideshow": {
     "slide_type": "fragment"
    }
   },
   "outputs": [],
   "source": [
    "def last_two_digit_test(input_list):\n",
    "    \"\"\"accepts a data frame as an input and returns a list of the count of each digit out of 100 digits\"\"\"\n",
    "    #create an list of 100 integers, each with a zero value\n",
    "    myList = []\n",
    "    for _ in range(100):\n",
    "        myList.append(0)\n",
    "    for num in input_list:\n",
    "        num = str(num)\n",
    "        output = str(num)[-2:]\n",
    "        myList[(int(output))-1] += 1\n",
    "    return myList"
   ]
  },
  {
   "cell_type": "code",
   "execution_count": 23,
   "metadata": {
    "pycharm": {
     "is_executing": false,
     "name": "#%%\n"
    },
    "slideshow": {
     "slide_type": "-"
    }
   },
   "outputs": [],
   "source": [
    "last_two = last_two_digit_test(finalData)"
   ]
  },
  {
   "cell_type": "markdown",
   "metadata": {
    "slideshow": {
     "slide_type": "subslide"
    }
   },
   "source": [
    "### Plot the Data\n",
    "\n",
    "* The function is now defined and we have run our dataset through the function\n",
    "\n",
    "* 'last_two' contains the frequency of every number between 01-100. \n",
    "\n",
    "Next lets plot the data in order to visualize if there is any oddly repetitive values"
   ]
  },
  {
   "cell_type": "code",
   "execution_count": 24,
   "metadata": {
    "pycharm": {
     "is_executing": false,
     "name": "#%%\n"
    },
    "slideshow": {
     "slide_type": "subslide"
    }
   },
   "outputs": [
    {
     "data": {
      "image/png": "[encoded data removed]",
      "text/plain": [
       "<Figure size 432x288 with 1 Axes>"
      ]
     },
     "metadata": {
      "needs_background": "light"
     },
     "output_type": "display_data"
    }
   ],
   "source": [
    "index = []\n",
    "for x in range(100):\n",
    "    index.append(x)\n",
    "\n",
    "#Plotting\n",
    "fig = plt.figure()\n",
    "ax = fig.add_axes([0,0,1,1])\n",
    "width = .35\n",
    "x = np.arange(len(index))\n",
    "plt.xticks(x, index)\n",
    "ax.bar(x - width/2, last_two, width= width)\n",
    "plt.title('Last Two Digit Count')\n",
    "plt.show()"
   ]
  },
  {
   "cell_type": "markdown",
   "metadata": {
    "slideshow": {
     "slide_type": "subslide"
    }
   },
   "source": [
    "#### Results\n",
    "As this graph shows, there are a few values with more than two occurrences.\n",
    "\n",
    "There might be something interesting with whatever value shows up four times, but *due to the small sample size, it is difficult finding strong evidence for rounding in the last two digits* \n",
    "\n",
    "That being said, lets figure out which number appears four times just to see if there is significance to it."
   ]
  },
  {
   "cell_type": "code",
   "execution_count": 25,
   "metadata": {
    "pycharm": {
     "is_executing": false,
     "name": "#%%\n"
    },
    "slideshow": {
     "slide_type": "-"
    }
   },
   "outputs": [
    {
     "name": "stdout",
     "output_type": "stream",
     "text": [
      "[80]\n"
     ]
    }
   ],
   "source": [
    "last_two_df = pd.DataFrame(last_two, index=index)\n",
    "print([ j for (i,j) in zip(last_two, index) if i >= 4 ])"
   ]
  },
  {
   "cell_type": "markdown",
   "metadata": {
    "slideshow": {
     "slide_type": "subslide"
    }
   },
   "source": [
    "## Conclusion:\n"
   ]
  },
  {
   "cell_type": "markdown",
   "metadata": {
    "slideshow": {
     "slide_type": "fragment"
    }
   },
   "source": [
    "So the two number that appears four times is 80.\n",
    "\n",
    "Due to our small sample size, we should disregard the significance of this number at this point, but if it reappears in our final analysis we should re-examine.\n",
    "\n",
    "Now back to the heart of our analysis."
   ]
  },
  {
   "cell_type": "markdown",
   "metadata": {
    "slideshow": {
     "slide_type": "slide"
    }
   },
   "source": [
    "# Locating the Suspicious Data"
   ]
  },
  {
   "cell_type": "markdown",
   "metadata": {
    "slideshow": {
     "slide_type": "subslide"
    }
   },
   "source": [
    "In this section we go through the original csv file and examine which numbers follow suspicious patterns.\n",
    "\n",
    "Our next section of code finds statistically significant differences between our tested count values and expected values. We them store those in a dictionary called 'significant_numbers.'\n",
    "\n",
    "The output of our function is below the code."
   ]
  },
  {
   "cell_type": "code",
   "execution_count": 26,
   "metadata": {
    "pycharm": {
     "is_executing": false,
     "name": "#%%\n"
    },
    "slideshow": {
     "slide_type": "subslide"
    }
   },
   "outputs": [
    {
     "data": {
      "text/plain": [
       "{'First Digit Significant Values': array([3], dtype=int64),\n",
       " 'Second Digit Significant Values': array([5, 8], dtype=int64),\n",
       " 'Third Digit Significant Values': array([5], dtype=int64)}"
      ]
     },
     "execution_count": 26,
     "metadata": {},
     "output_type": "execute_result"
    }
   ],
   "source": [
    "#We create new variables called 'significant numbers' which we will alter in order to deliver us just the significant digits\n",
    "\n",
    "first_digit_significant_numbers = first_digit_df.copy()\n",
    "second_digit_significant_numbers = second_digit_df.copy()\n",
    "third_digit_significant_numbers = third_digit_df.copy()\n",
    "\n",
    "#This for loop adds the significant digit to a list called 'temp' when the difference of the number is greater than 5%\n",
    "temp = []\n",
    "for x in [first_digit_significant_numbers, second_digit_significant_numbers, third_digit_significant_numbers]:\n",
    "    temp.append(x.index.where(x['Difference (%)'] > 5).dropna())\n",
    "\n",
    "#Now we convert the list into a cleaner version which will be easier to work with and put it in a dictionary\n",
    "significant_numbers = {\n",
    "    'First Digit Significant Values' : temp[0].astype(int).values,\n",
    "    'Second Digit Significant Values' : temp[1].astype(int).values,\n",
    "    'Third Digit Significant Values' : temp[2].astype(int).values\n",
    "}\n",
    "#here is an example of what those numbers are\n",
    "significant_numbers"
   ]
  },
  {
   "cell_type": "markdown",
   "metadata": {
    "slideshow": {
     "slide_type": "subslide"
    }
   },
   "source": [
    "**Now we have our answer.**\n",
    "\n",
    "The digit *3* in the first test\n",
    "\n",
    "The digits *5* and *8* in our second test\n",
    "\n",
    "And the digits *4* and *5* in our third digit test.\n",
    "\n",
    "***Next Steps***\n",
    "\n",
    "Now we will see where these numbers appear in our original CSV."
   ]
  },
  {
   "cell_type": "code",
   "execution_count": 27,
   "metadata": {
    "pycharm": {
     "is_executing": false,
     "name": "#%%\n"
    },
    "slideshow": {
     "slide_type": "subslide"
    }
   },
   "outputs": [],
   "source": [
    "#This cell changes all of my integers into strings which are easier to slice in order to locate the sections of the 990 that\n",
    "#might contain fraudulent data\n",
    "finalData = [str(x) for x in finalData]"
   ]
  },
  {
   "cell_type": "code",
   "execution_count": 28,
   "metadata": {
    "pycharm": {
     "is_executing": false,
     "name": "#%%\n"
    },
    "slideshow": {
     "slide_type": "-"
    }
   },
   "outputs": [],
   "source": [
    "#these lines below actually are finding the numbers in our entire dataset where the digit at some given position\n",
    "#matches the number and the position that we are looking for\n",
    "first_numbers = [x for x in finalData if x[:1] in significant_numbers['First Digit Significant Values'].astype(str)]\n",
    "second_numbers = [x for x in finalData if x[1:2] in significant_numbers['Second Digit Significant Values'].astype(str)]\n",
    "third_numbers = [x for x in finalData if x[2:3] in significant_numbers['Third Digit Significant Values'].astype(str)]"
   ]
  },
  {
   "cell_type": "markdown",
   "metadata": {
    "slideshow": {
     "slide_type": "subslide"
    }
   },
   "source": [
    "This gives us three lists of numbers which contain one or more of the suspicious digits as shown below"
   ]
  },
  {
   "cell_type": "code",
   "execution_count": 29,
   "metadata": {
    "pycharm": {
     "is_executing": false,
     "name": "#%%\n"
    },
    "slideshow": {
     "slide_type": "-"
    }
   },
   "outputs": [
    {
     "name": "stdout",
     "output_type": "stream",
     "text": [
      "['3834833', '36926019', '396641', '335673', '336687', '3690707', '350531', '38904404', '3833581', '37801365', '3045439', '3626520', '355273', '372252', '3433336', '31935018'] ['3834833', '78400', '259816', '58833', '587914', '5514388', '455081', '1552635', '1586477', '556715', '754573', '183486', '350531', '258036', '38904404', '3833581', '18595451', '988439', '25027', '355273', '456298', '5866347', '2836227', '2817', '151743'] ['735579', '23543', '205983', '455081', '335673', '6650616', '265798', '1552635', '1450405', '18595451', '265181', '275934', '355273', '235485', '195275']\n"
     ]
    }
   ],
   "source": [
    "print(first_numbers, second_numbers, third_numbers)"
   ]
  },
  {
   "cell_type": "markdown",
   "metadata": {
    "slideshow": {
     "slide_type": "subslide"
    }
   },
   "source": [
    "**Next we find which values reappear in multiple tests**\n",
    "\n",
    "Meaning... which values have *multiple* suspicious digits in them.\n",
    "\n",
    "First we are going to define a function called 'intersection' which will take two arguments, two lists, and then return another list which contains all the values that are found in both lists"
   ]
  },
  {
   "cell_type": "code",
   "execution_count": 30,
   "metadata": {
    "pycharm": {
     "is_executing": false,
     "name": "#%%\n"
    },
    "slideshow": {
     "slide_type": "fragment"
    }
   },
   "outputs": [],
   "source": [
    "def intersection(lst1, lst2): \n",
    "    lst3 = [value for value in lst1 if value in lst2] \n",
    "    return lst3 "
   ]
  },
  {
   "cell_type": "code",
   "execution_count": 31,
   "metadata": {
    "pycharm": {
     "is_executing": false,
     "name": "#%%\n"
    },
    "slideshow": {
     "slide_type": "-"
    }
   },
   "outputs": [
    {
     "name": "stdout",
     "output_type": "stream",
     "text": [
      "['3834833', '350531', '38904404', '3833581', '355273']\n",
      "['335673', '355273']\n",
      "['455081', '1552635', '18595451', '355273']\n",
      "['355273']\n"
     ]
    }
   ],
   "source": [
    "inter_one_two = intersection(first_numbers, second_numbers)\n",
    "inter_one_three = intersection(first_numbers, third_numbers)\n",
    "inter_two_three = intersection(second_numbers, third_numbers)\n",
    "interfinal = intersection(inter_one_two, third_numbers)\n",
    "print(inter_one_two)\n",
    "print(inter_one_three)\n",
    "print(inter_two_three)\n",
    "print(interfinal)"
   ]
  },
  {
   "cell_type": "markdown",
   "metadata": {
    "slideshow": {
     "slide_type": "subslide"
    }
   },
   "source": [
    "**The two numbers that 'interfinal' produces are the two numbers that fit in our suspicious lists for all of the first, second and third digits. These are prime suspects.**\n",
    "\n",
    "It turns out in our case that there is only one digit, '355273'\n",
    "\n",
    "\n",
    "**Below we find our 'result' which is a combination of every number which appeared in multiple lists**\n",
    "\n",
    "What this means is that every value in the 'result' list is a suspicious value selected for its lack of correlation with their expected result according to Benford's law."
   ]
  },
  {
   "cell_type": "code",
   "execution_count": 32,
   "metadata": {
    "pycharm": {
     "is_executing": false,
     "name": "#%%\n"
    },
    "slideshow": {
     "slide_type": "subslide"
    }
   },
   "outputs": [],
   "source": [
    "in_first = set(inter_one_two)\n",
    "in_second = set(inter_two_three)\n",
    "\n",
    "in_second_but_not_in_first = in_second - in_first\n",
    "\n",
    "result = inter_one_two + list(in_second_but_not_in_first)"
   ]
  },
  {
   "cell_type": "markdown",
   "metadata": {
    "slideshow": {
     "slide_type": "fragment"
    }
   },
   "source": [
    "**For clarity lets print our list at this point to make sure the numbers make sense**"
   ]
  },
  {
   "cell_type": "code",
   "execution_count": 33,
   "metadata": {
    "pycharm": {
     "is_executing": false,
     "name": "#%%\n"
    },
    "slideshow": {
     "slide_type": "-"
    }
   },
   "outputs": [
    {
     "name": "stdout",
     "output_type": "stream",
     "text": [
      "['3834833', '350531', '38904404', '3833581', '355273', '1552635', '18595451', '455081']\n"
     ]
    }
   ],
   "source": [
    "print(result)"
   ]
  },
  {
   "cell_type": "markdown",
   "metadata": {
    "slideshow": {
     "slide_type": "subslide"
    }
   },
   "source": [
    "There are quite a few suspicious numbers in our list. 8 out of a sample size of 85. \n",
    "\n",
    "On to the last step: Our final account location analysis"
   ]
  },
  {
   "cell_type": "markdown",
   "metadata": {
    "slideshow": {
     "slide_type": "slide"
    }
   },
   "source": [
    "# Final Analysis:"
   ]
  },
  {
   "cell_type": "markdown",
   "metadata": {
    "slideshow": {
     "slide_type": "subslide"
    }
   },
   "source": [
    "### Analyze Suspicious Account Names\n",
    "We are on the last steps...\n",
    "\n",
    "We just need to find the suspicious values and there corresponding account names, from that point we can come to our final conclusion.\n",
    "\n",
    "Read the comments in the code below to see how we filter the list down to just our targeted values.\n"
   ]
  },
  {
   "cell_type": "code",
   "execution_count": 34,
   "metadata": {
    "pycharm": {
     "is_executing": false,
     "name": "#%%\n"
    },
    "slideshow": {
     "slide_type": "-"
    }
   },
   "outputs": [],
   "source": [
    "#delete all values that arent on our list 'result'\n",
    "all_to_investigate = df[df.isin(result)]\n",
    "\n",
    "#remove every column that is entirely 'NaN' values\n",
    "all_to_investigate = all_to_investigate.dropna(axis='columns', how='all')\n",
    "\n",
    "#remove every row that is entirely 'NaN' values\n",
    "all_to_investigate = all_to_investigate.dropna(axis='index', how='all')"
   ]
  },
  {
   "cell_type": "markdown",
   "metadata": {
    "slideshow": {
     "slide_type": "subslide"
    }
   },
   "source": [
    "### Now we have a data frame (shown below) of every suspicious account name and its associated value\n",
    "\n",
    "-Next we should go through this list and rule out values that are dependent on other values\n",
    "\n",
    "-For example, 'Total expenses' is unlikely to be a suspicious account by itself, as it is merely a sum of other values. However, accounts like Contributions, gifts and grants or other fees could entirely contain fraudulent numbers."
   ]
  },
  {
   "cell_type": "code",
   "execution_count": 35,
   "metadata": {
    "pycharm": {
     "is_executing": false,
     "name": "#%%\n"
    },
    "slideshow": {
     "slide_type": "subslide"
    }
   },
   "outputs": [
    {
     "data": {
      "text/html": [
       "<div>\n",
       "<style scoped>\n",
       "    .dataframe tbody tr th:only-of-type {\n",
       "        vertical-align: middle;\n",
       "    }\n",
       "\n",
       "    .dataframe tbody tr th {\n",
       "        vertical-align: top;\n",
       "    }\n",
       "\n",
       "    .dataframe thead th {\n",
       "        text-align: right;\n",
       "    }\n",
       "</style>\n",
       "<table border=\"1\" class=\"dataframe\">\n",
       "  <thead>\n",
       "    <tr style=\"text-align: right;\">\n",
       "      <th></th>\n",
       "      <th>A</th>\n",
       "      <th>B</th>\n",
       "    </tr>\n",
       "  </thead>\n",
       "  <tbody>\n",
       "    <tr>\n",
       "      <th>Contibutions, gifts, grans</th>\n",
       "      <td>3834833.0</td>\n",
       "      <td>NaN</td>\n",
       "    </tr>\n",
       "    <tr>\n",
       "      <th>Pension plan accruals and contributions (also 401k)</th>\n",
       "      <td>455081.0</td>\n",
       "      <td>NaN</td>\n",
       "    </tr>\n",
       "    <tr>\n",
       "      <th>other fees</th>\n",
       "      <td>1552635.0</td>\n",
       "      <td>NaN</td>\n",
       "    </tr>\n",
       "    <tr>\n",
       "      <th>Info. Tech.</th>\n",
       "      <td>NaN</td>\n",
       "      <td>355273.0</td>\n",
       "    </tr>\n",
       "    <tr>\n",
       "      <th>Other: Student activities</th>\n",
       "      <td>350531.0</td>\n",
       "      <td>NaN</td>\n",
       "    </tr>\n",
       "    <tr>\n",
       "      <th>Total expenses</th>\n",
       "      <td>38904404.0</td>\n",
       "      <td>NaN</td>\n",
       "    </tr>\n",
       "    <tr>\n",
       "      <th>revenue less expenses</th>\n",
       "      <td>3833581.0</td>\n",
       "      <td>NaN</td>\n",
       "    </tr>\n",
       "    <tr>\n",
       "      <th>Net assets or fund balances at end of year</th>\n",
       "      <td>18595451.0</td>\n",
       "      <td>NaN</td>\n",
       "    </tr>\n",
       "  </tbody>\n",
       "</table>\n",
       "</div>"
      ],
      "text/plain": [
       "                                                             A         B\n",
       "Contibutions, gifts, grans                           3834833.0       NaN\n",
       "Pension plan accruals and contributions (also 4...    455081.0       NaN\n",
       "other fees                                           1552635.0       NaN\n",
       "Info. Tech.                                                NaN  355273.0\n",
       "Other: Student activities                             350531.0       NaN\n",
       "Total expenses                                      38904404.0       NaN\n",
       "revenue less expenses                                3833581.0       NaN\n",
       "Net assets or fund balances at end of year          18595451.0       NaN"
      ]
     },
     "execution_count": 35,
     "metadata": {},
     "output_type": "execute_result"
    }
   ],
   "source": [
    "all_to_investigate"
   ]
  },
  {
   "cell_type": "markdown",
   "metadata": {
    "slideshow": {
     "slide_type": "subslide"
    }
   },
   "source": [
    "### Finally\n",
    "\n",
    "The last thing we should do is drop every account that is dependent on other values to bring us to our final list of the auditing targets."
   ]
  },
  {
   "cell_type": "code",
   "execution_count": 36,
   "metadata": {
    "pycharm": {
     "is_executing": false,
     "name": "#%%\n"
    },
    "slideshow": {
     "slide_type": "subslide"
    }
   },
   "outputs": [
    {
     "data": {
      "text/html": [
       "<div>\n",
       "<style scoped>\n",
       "    .dataframe tbody tr th:only-of-type {\n",
       "        vertical-align: middle;\n",
       "    }\n",
       "\n",
       "    .dataframe tbody tr th {\n",
       "        vertical-align: top;\n",
       "    }\n",
       "\n",
       "    .dataframe thead th {\n",
       "        text-align: right;\n",
       "    }\n",
       "</style>\n",
       "<table border=\"1\" class=\"dataframe\">\n",
       "  <thead>\n",
       "    <tr style=\"text-align: right;\">\n",
       "      <th></th>\n",
       "      <th>A</th>\n",
       "      <th>B</th>\n",
       "    </tr>\n",
       "  </thead>\n",
       "  <tbody>\n",
       "    <tr>\n",
       "      <th>Contibutions, gifts, grans</th>\n",
       "      <td>3834833.0</td>\n",
       "      <td>NaN</td>\n",
       "    </tr>\n",
       "    <tr>\n",
       "      <th>Pension plan accruals and contributions (also 401k)</th>\n",
       "      <td>455081.0</td>\n",
       "      <td>NaN</td>\n",
       "    </tr>\n",
       "    <tr>\n",
       "      <th>other fees</th>\n",
       "      <td>1552635.0</td>\n",
       "      <td>NaN</td>\n",
       "    </tr>\n",
       "    <tr>\n",
       "      <th>Info. Tech.</th>\n",
       "      <td>NaN</td>\n",
       "      <td>355273.0</td>\n",
       "    </tr>\n",
       "    <tr>\n",
       "      <th>Other: Student activities</th>\n",
       "      <td>350531.0</td>\n",
       "      <td>NaN</td>\n",
       "    </tr>\n",
       "    <tr>\n",
       "      <th>Net assets or fund balances at end of year</th>\n",
       "      <td>18595451.0</td>\n",
       "      <td>NaN</td>\n",
       "    </tr>\n",
       "  </tbody>\n",
       "</table>\n",
       "</div>"
      ],
      "text/plain": [
       "                                                             A         B\n",
       "Contibutions, gifts, grans                           3834833.0       NaN\n",
       "Pension plan accruals and contributions (also 4...    455081.0       NaN\n",
       "other fees                                           1552635.0       NaN\n",
       "Info. Tech.                                                NaN  355273.0\n",
       "Other: Student activities                             350531.0       NaN\n",
       "Net assets or fund balances at end of year          18595451.0       NaN"
      ]
     },
     "execution_count": 36,
     "metadata": {},
     "output_type": "execute_result"
    }
   ],
   "source": [
    "to_drop = ['revenue less expenses', 'Total expenses']\n",
    "final_list = all_to_investigate.drop(to_drop)\n",
    "final_list"
   ]
  },
  {
   "cell_type": "markdown",
   "metadata": {
    "slideshow": {
     "slide_type": "slide"
    }
   },
   "source": [
    "# Conclusion"
   ]
  },
  {
   "cell_type": "markdown",
   "metadata": {
    "slideshow": {
     "slide_type": "subslide"
    }
   },
   "source": [
    "Now we have a list of every suspicious account. The next course of action is to recommend an audit for all of these accounts. They are all likely targets of fraud due to the fact that they all likely represent a large number of transactions. \n",
    "\n",
    "However, it is likely that no fraud exists as our sample size is so low. With only 85 samples we cannot be too sure, but it is still very interesting that things like the first digit test worked so well but the second and third digit tests saw massive deviations from their expected values."
   ]
  },
  {
   "cell_type": "code",
   "execution_count": 37,
   "metadata": {
    "pycharm": {
     "is_executing": false,
     "name": "#%%\n"
    },
    "slideshow": {
     "slide_type": "fragment"
    }
   },
   "outputs": [
    {
     "data": {
      "text/html": [
       "<div>\n",
       "<style scoped>\n",
       "    .dataframe tbody tr th:only-of-type {\n",
       "        vertical-align: middle;\n",
       "    }\n",
       "\n",
       "    .dataframe tbody tr th {\n",
       "        vertical-align: top;\n",
       "    }\n",
       "\n",
       "    .dataframe thead th {\n",
       "        text-align: right;\n",
       "    }\n",
       "</style>\n",
       "<table border=\"1\" class=\"dataframe\">\n",
       "  <thead>\n",
       "    <tr style=\"text-align: right;\">\n",
       "      <th></th>\n",
       "      <th>A</th>\n",
       "      <th>B</th>\n",
       "    </tr>\n",
       "  </thead>\n",
       "  <tbody>\n",
       "    <tr>\n",
       "      <th>Contibutions, gifts, grans</th>\n",
       "      <td>3834833.0</td>\n",
       "      <td>NaN</td>\n",
       "    </tr>\n",
       "    <tr>\n",
       "      <th>Pension plan accruals and contributions (also 401k)</th>\n",
       "      <td>455081.0</td>\n",
       "      <td>NaN</td>\n",
       "    </tr>\n",
       "    <tr>\n",
       "      <th>other fees</th>\n",
       "      <td>1552635.0</td>\n",
       "      <td>NaN</td>\n",
       "    </tr>\n",
       "    <tr>\n",
       "      <th>Info. Tech.</th>\n",
       "      <td>NaN</td>\n",
       "      <td>355273.0</td>\n",
       "    </tr>\n",
       "    <tr>\n",
       "      <th>Other: Student activities</th>\n",
       "      <td>350531.0</td>\n",
       "      <td>NaN</td>\n",
       "    </tr>\n",
       "    <tr>\n",
       "      <th>Net assets or fund balances at end of year</th>\n",
       "      <td>18595451.0</td>\n",
       "      <td>NaN</td>\n",
       "    </tr>\n",
       "  </tbody>\n",
       "</table>\n",
       "</div>"
      ],
      "text/plain": [
       "                                                             A         B\n",
       "Contibutions, gifts, grans                           3834833.0       NaN\n",
       "Pension plan accruals and contributions (also 4...    455081.0       NaN\n",
       "other fees                                           1552635.0       NaN\n",
       "Info. Tech.                                                NaN  355273.0\n",
       "Other: Student activities                             350531.0       NaN\n",
       "Net assets or fund balances at end of year          18595451.0       NaN"
      ]
     },
     "execution_count": 37,
     "metadata": {},
     "output_type": "execute_result"
    }
   ],
   "source": [
    "final_list"
   ]
  },
  {
   "cell_type": "markdown",
   "metadata": {
    "slideshow": {
     "slide_type": "slide"
    }
   },
   "source": [
    "# Sources\n",
    "* Association of Certified Fraud Examiners; \"Using Benford's Law to Detect Fraud.\" https://www.acfe.com/uploadedFiles/Shared_Content/Products/Self-Study_CPE/UsingBenfordsLaw_2018_final_extract.pdf\n",
    "\n",
    "* Theodore P. Hill, \"The Significant-Digit Phenomenon\", The American Mathematical Monthly, Vol. 102, No. 4, (Apr., 1995), pp. 322–327. https://digitalcommons.calpoly.edu/cgi/viewcontent.cgi?referer=&httpsredir=1&article=1041&context=rgp_rsr\n",
    "\n",
    "* Formann, A. K. (2010). Morris, Richard James (ed.). \"The Newcomb–Benford Law in Its Relation to Some Common Distributions\". PLoS ONE. 5 (5): e10541. https://journals.plos.org/plosone/article?id=10.1371/journal.pone.0010541\n",
    "\n",
    "* Nigrini, M. J. (2012) Benford's Law. Hoboken, NJ: John Wiley & Sons.\n",
    "\n",
    "* Goodman, William (2016) \"The promises and pitfalls of Benford's law\" The Royal Statistical Society. https://rss.onlinelibrary.wiley.com/doi/full/10.1111/j.1740-9713.2016.00919.x\n",
    "\n",
    "* Ward's Wonderful Computational Finance Slides"
   ]
  },
  {
   "cell_type": "code",
   "execution_count": null,
   "metadata": {
    "slideshow": {
     "slide_type": "skip"
    }
   },
   "outputs": [],
   "source": []
  }
 ],
 "metadata": {
  "celltoolbar": "Slideshow",
  "kernelspec": {
   "display_name": "Python 3",
   "language": "python",
   "name": "python3"
  },
  "language_info": {
   "codemirror_mode": {
    "name": "ipython",
    "version": 3
   },
   "file_extension": ".py",
   "mimetype": "text/x-python",
   "name": "python",
   "nbconvert_exporter": "python",
   "pygments_lexer": "ipython3",
   "version": "3.7.1"
  },
  "pycharm": {
   "stem_cell": {
    "cell_type": "raw",
    "source": [],
    "metadata": {
     "collapsed": false
    }
   }
  }
 },
 "nbformat": 4,
 "nbformat_minor": 4
}